{
 "cells": [
  {
   "cell_type": "code",
   "execution_count": 1,
   "id": "10d264e5-5a45-4c8b-9658-1baa9edf7bdb",
   "metadata": {
    "tags": []
   },
   "outputs": [
    {
     "name": "stderr",
     "output_type": "stream",
     "text": [
      "/root/miniconda3/lib/python3.8/site-packages/torchvision/io/image.py:13: UserWarning: Failed to load image Python extension: '/root/miniconda3/lib/python3.8/site-packages/torchvision/image.so: undefined symbol: _ZN3c1017RegisterOperatorsD1Ev'If you don't plan on using image functionality from `torchvision.io`, you can ignore this warning. Otherwise, there might be something wrong with your environment. Did you have `libjpeg` or `libpng` installed before building `torchvision` from source?\n",
      "  warn(\n"
     ]
    }
   ],
   "source": [
    "from transformers import BertTokenizer, BertForTokenClassification, BertTokenizerFast\n",
    "from transformers import Trainer, TrainingArguments, DataCollatorForTokenClassification, pipeline\n",
    "from sklearn.model_selection import train_test_split\n",
    "import torch\n",
    "import json\n",
    "import evaluate\n",
    "import numpy\n",
    "from random import shuffle"
   ]
  },
  {
   "cell_type": "code",
   "execution_count": 2,
   "id": "670bbd2e-9654-4285-8ede-6cde5e7684c6",
   "metadata": {
    "tags": []
   },
   "outputs": [],
   "source": [
    "\n",
    "device = torch.device(\"cuda\" if torch.cuda.is_available() else \"cpu\")\n",
    "\n",
    "# 加载BERT tokenizer\n",
    "tokenizer = BertTokenizerFast.from_pretrained('NER_model')"
   ]
  },
  {
   "cell_type": "code",
   "execution_count": 3,
   "id": "0fc3ab87-d502-4110-a47d-92e6e2003810",
   "metadata": {
    "tags": []
   },
   "outputs": [],
   "source": [
    "\n",
    "# 加载BERT模型，用于NER任务微调\n",
    "model = BertForTokenClassification.from_pretrained('NER_model',\n",
    "                                                   \n",
    "                                                   num_labels=3)  ## 3\n",
    "model = model.to(device)"
   ]
  },
  {
   "cell_type": "code",
   "execution_count": 42,
   "id": "d131abc8-5334-4e27-ba39-8c496a0713fa",
   "metadata": {
    "tags": []
   },
   "outputs": [],
   "source": [
    "# 设置模型为评估模式（不启用训练模式）\n",
    "model.eval()\n",
    "\n",
    "# 示例输入句子\n",
    "input_text = \"浦东申城佳苑1期C块旁边有一堆垃圾，希望能尽快清理。\"\n",
    "\n",
    "# 使用分词器对输入进行编码\n",
    "inputs = tokenizer(input_text, return_tensors=\"pt\")\n",
    "\n",
    "inputs = inputs.to(device)\n",
    "\n",
    "# 运行模型进行预测\n",
    "with torch.no_grad():\n",
    "    outputs = model(**inputs)\n",
    "\n",
    "# 获取预测结果\n",
    "predictions = torch.argmax(outputs.logits, dim=2).tolist()\n",
    "prediction = predictions[0]\n",
    "indices = [index for index, value in enumerate(prediction[1: -1]) if value == 1 or value == 2]\n",
    "entity_loc = ''.join([input_text[idx] for idx in indices])\n"
   ]
  },
  {
   "cell_type": "code",
   "execution_count": 43,
   "id": "77baeebe-27df-4fd3-8dab-f09fa79fe5b7",
   "metadata": {
    "tags": []
   },
   "outputs": [
    {
     "data": {
      "text/plain": [
       "'浦东申城佳苑1期C块'"
      ]
     },
     "execution_count": 43,
     "metadata": {},
     "output_type": "execute_result"
    }
   ],
   "source": []
  },
  {
   "cell_type": "code",
   "execution_count": null,
   "id": "4bfd42e2-9bda-4954-bb3b-928c2ee100c8",
   "metadata": {
    "tags": []
   },
   "outputs": [],
   "source": []
  },
  {
   "cell_type": "code",
   "execution_count": null,
   "id": "521bd10b-fc48-4252-8dde-cd1f5d63b54c",
   "metadata": {},
   "outputs": [],
   "source": []
  }
 ],
 "metadata": {
  "kernelspec": {
   "display_name": "Python 3 (ipykernel)",
   "language": "python",
   "name": "python3"
  },
  "language_info": {
   "codemirror_mode": {
    "name": "ipython",
    "version": 3
   },
   "file_extension": ".py",
   "mimetype": "text/x-python",
   "name": "python",
   "nbconvert_exporter": "python",
   "pygments_lexer": "ipython3",
   "version": "3.8.10"
  }
 },
 "nbformat": 4,
 "nbformat_minor": 5
}
